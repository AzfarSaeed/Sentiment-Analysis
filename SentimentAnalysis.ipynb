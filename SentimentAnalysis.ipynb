{
 "cells": [
  {
   "cell_type": "code",
   "execution_count": null,
   "metadata": {},
   "outputs": [],
   "source": [
    "import nltk\n",
    "import numpy as np\n",
    "import pandas as pd\n",
    "import matplotlib.pyplot as plt\n",
    "import seaborn as sns\n",
    "\n",
    "plt.style.use('ggplot')\n",
    "path=\"/content/drive/MyDrive/sample dataset/Reviews.csv\"\n",
    "df = pd.read_csv(path)\n",
    "print(df.shape)\n",
    "df= df.head(500)\n",
    "print(df.shape)\n",
    "df.head()\n",
    "ax = df['Score'].value_counts().sort_index()\\\n",
    "     .plot(kind='bar',\n",
    "           title= 'count of reviews by according to stars',\n",
    "           figsize=(10,5))\n",
    "ax.set_xlabel('Reviews stars')\n",
    "plt.show()\n",
    "from nltk.sentiment import SentimentIntensityAnalyzer\n",
    "nltk.download ('vader_lexicon')\n",
    "from tqdm.notebook import tqdm\n",
    "sia = SentimentIntensityAnalyzer()\n",
    "sia.polarity_scores('i am so happy')\n",
    "sia.polarity_scores('this is the worst day of my life')\n",
    "res = {}\n",
    "for i, row in tqdm(df.iterrows(), total =len(df)):\n",
    "    text=row['Text']\n",
    "    myid = row ['Id']\n",
    "    res[myid] = sia.polarity_scores(text)\n",
    "res\n",
    "vaders = pd.DataFrame(res).T\n",
    "vaders = vaders.reset_index().rename(columns={'index':'Id'})\n",
    "vaders = vaders.merge(df, how='left')\n",
    "vaders.head()\n",
    "ax = sns.barplot(data=vaders, x='Score', y='compound')\n",
    "ax.set_title('Compound Score by Amazon Star Review')\n",
    "plt.show()\n",
    "fig,axs = plt.subplots(1 , 3 , figsize=(15,5))\n",
    "sns.barplot(data=vaders, x='Score',y='pos',ax=axs[0])\n",
    "sns.barplot(data=vaders, x='Score',y='neu',ax=axs[1])\n",
    "sns.barplot(data=vaders, x='Score',y='neg',ax=axs[2])\n",
    "axs[0].set_title('Positive')\n",
    "axs[1].set_title('Neutral')\n",
    "axs[2].set_title('Negative')\n",
    "plt.tight_layout()\n",
    "plt.show()"
   ]
  }
 ],
 "metadata": {
  "language_info": {
   "name": "python"
  }
 },
 "nbformat": 4,
 "nbformat_minor": 2
}
